{
 "cells": [
  {
   "cell_type": "code",
   "execution_count": 1,
   "metadata": {
    "collapsed": true
   },
   "outputs": [],
   "source": [
    "%matplotlib inline\n",
    "\n",
    "import esoreader\n",
    "reload(esoreader)\n",
    "import pandas as pd\n",
    "import os"
   ]
  },
  {
   "cell_type": "code",
   "execution_count": 2,
   "metadata": {
    "collapsed": false
   },
   "outputs": [],
   "source": [
    "# change this to point to where you checked out the GitHub project\n",
    "PROJECT_PATH = r\"c:\\projects\\UMEM-JBPS-Paper\"\n",
    "\n",
    "# this is the output of the 01-run-hpz workflow\n",
    "ESO_PATH = os.path.join(PROJECT_PATH, 'workflows', 'output', '01-run-hpz', '01-run-hpz.eso')\n",
    "\n",
    "# this is where we will store the aggregated heating and cooling data\n",
    "OUTPUT_PATH = os.path.join(PROJECT_PATH, 'workflows', 'output', '01-run-hpz', '01-run-hpz.csv')\n",
    "\n",
    "# yeah... we need an index for timeseries...\n",
    "HOURS_IN_YEAR = pd.date_range('2013-01-01', '2013-12-31 T23:00', freq='H')"
   ]
  },
  {
   "cell_type": "code",
   "execution_count": 58,
   "metadata": {
    "collapsed": true
   },
   "outputs": [],
   "source": [
    "hpz = esoreader.read_from_path(ESO_PATH)"
   ]
  },
  {
   "cell_type": "code",
   "execution_count": 59,
   "metadata": {
    "collapsed": false
   },
   "outputs": [
    {
     "data": {
      "text/plain": [
       "['Zone_D_CORE Total Heating Energy {J}',\n",
       " 'Zone_E_CORE_M Total Heating Energy {J}',\n",
       " 'Zone_E_NE Total Heating Energy {J}',\n",
       " 'Zone_E_NW Total Heating Energy {J}',\n",
       " 'Zone_E_SE Total Heating Energy {J}',\n",
       " 'Zone_E_SW Total Heating Energy {J}',\n",
       " 'Zone_E_W Total Heating Energy {J}',\n",
       " 'Zone_F_CORE Total Heating Energy {J}',\n",
       " 'Zone_F_E Total Heating Energy {J}',\n",
       " 'Zone_F_NE Total Heating Energy {J}',\n",
       " 'Zone_F_NI Total Heating Energy {J}',\n",
       " 'Zone_F_SE Total Heating Energy {J}',\n",
       " 'Zone_F_SI Total Heating Energy {J}',\n",
       " 'Zone_G_CORE Total Heating Energy {J}',\n",
       " 'Zone_G_E Total Heating Energy {J}',\n",
       " 'Zone_G_N Total Heating Energy {J}',\n",
       " 'Zone_G_NE Total Heating Energy {J}',\n",
       " 'Zone_G_NW Total Heating Energy {J}',\n",
       " 'Zone_G_S Total Heating Energy {J}',\n",
       " 'Zone_G_SE Total Heating Energy {J}',\n",
       " 'Zone_G_SW Total Heating Energy {J}',\n",
       " 'Zone_G_W Total Heating Energy {J}']"
      ]
     },
     "execution_count": 59,
     "metadata": {},
     "output_type": "execute_result"
    }
   ],
   "source": [
    "# we are probably interested in the 'Zone_XYZ Total Heating Energy' variables...\n",
    "# after looking at the data, it seems they all have the key: \"EMS\"\n",
    "sorted(set(map(lambda t: t[2], hpz.find_variable('total heating energy', key='EMS'))))"
   ]
  },
  {
   "cell_type": "code",
   "execution_count": 60,
   "metadata": {
    "collapsed": false
   },
   "outputs": [
    {
     "data": {
      "text/plain": [
       "<matplotlib.axes._subplots.AxesSubplot at 0x7c0e450>"
      ]
     },
     "execution_count": 60,
     "metadata": {},
     "output_type": "execute_result"
    },
    {
     "data": {
      "image/png": "[encoded data removed]",
      "text/plain": [
       "<matplotlib.figure.Figure at 0x7c0e730>"
      ]
     },
     "metadata": {},
     "output_type": "display_data"
    }
   ],
   "source": [
    "heating = hpz.to_frame('total heating energy', key=key, index=HOURS_IN_YEAR, use_key_for_columns=False).sum(axis=1)\n",
    "cooling = hpz.to_frame('total cooling energy', key=key, index=HOURS_IN_YEAR, use_key_for_columns=False).sum(axis=1)\n",
    "df = pd.DataFrame({'Total Heating Energy': heating, 'Total Cooling Energy': cooling})\n",
    "df.plot()"
   ]
  },
  {
   "cell_type": "code",
   "execution_count": 66,
   "metadata": {
    "collapsed": false
   },
   "outputs": [],
   "source": [
    "df.to_csv(OUTPUT_PATH, index_label='Time')"
   ]
  }
 ],
 "metadata": {
  "hide_input": false,
  "kernelspec": {
   "display_name": "Python 2",
   "language": "python",
   "name": "python2"
  },
  "language_info": {
   "codemirror_mode": {
    "name": "ipython",
    "version": 2
   },
   "file_extension": ".py",
   "mimetype": "text/x-python",
   "name": "python",
   "nbconvert_exporter": "python",
   "pygments_lexer": "ipython2",
   "version": "2.7.11"
  }
 },
 "nbformat": 4,
 "nbformat_minor": 0
}
