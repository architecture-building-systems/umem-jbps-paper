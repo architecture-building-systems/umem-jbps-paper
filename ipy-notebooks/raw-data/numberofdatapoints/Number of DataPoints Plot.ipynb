{
 "cells": [
  {
   "cell_type": "markdown",
   "metadata": {},
   "source": [
    "#Bar Chart for the number of datapoints in the model\n",
    "\n",
    "Created by: Clayton Miller\n",
    "\n",
    "Nov. 4, 2104\n",
    "Updated on July 28, 2015 for the JBPS journal paper\n",
    "\n",
    "The purpose of this is to visualize the number of datapoints available from each of the buildings. We base this off of the points list.\n",
    "\n",
    "Lataxify: http://nipunbatra.github.io/2014/08/latexify/"
   ]
  },
  {
   "cell_type": "code",
   "execution_count": 1,
   "metadata": {
    "collapsed": false
   },
   "outputs": [],
   "source": [
    "import pandas as pd\n",
    "import seaborn"
   ]
  },
  {
   "cell_type": "code",
   "execution_count": 2,
   "metadata": {
    "collapsed": true
   },
   "outputs": [],
   "source": [
    "%matplotlib inline"
   ]
  },
  {
   "cell_type": "code",
   "execution_count": 3,
   "metadata": {
    "collapsed": false
   },
   "outputs": [],
   "source": [
    "df = pd.read_csv(\"ETH_EMS_BMS_MasterPointList - ForTotalPointNumberViz.csv\")"
   ]
  },
  {
   "cell_type": "code",
   "execution_count": 4,
   "metadata": {
    "collapsed": false
   },
   "outputs": [
    {
     "data": {
      "text/html": [
       "<div style=\"max-height:1000px;max-width:1500px;overflow:auto;\">\n",
       "<table border=\"1\" class=\"dataframe\">\n",
       "  <thead>\n",
       "    <tr style=\"text-align: right;\">\n",
       "      <th></th>\n",
       "      <th>Unnamed: 0</th>\n",
       "      <th>Unnamed: 1</th>\n",
       "      <th>Unnamed: 2</th>\n",
       "      <th>CategoryTag</th>\n",
       "      <th>TypeTag</th>\n",
       "      <th>EnglishTag</th>\n",
       "      <th>Adjusted_EnglishTag</th>\n",
       "      <th>BuildTag</th>\n",
       "    </tr>\n",
       "  </thead>\n",
       "  <tbody>\n",
       "    <tr>\n",
       "      <th>0</th>\n",
       "      <td>NaN</td>\n",
       "      <td>V</td>\n",
       "      <td>MBW</td>\n",
       "      <td>Durchfluss</td>\n",
       "      <td>Brauchwarmwasser Verbrauch</td>\n",
       "      <td>Domestic hot water consumption</td>\n",
       "      <td>Domestic hot water</td>\n",
       "      <td>HC0</td>\n",
       "    </tr>\n",
       "    <tr>\n",
       "      <th>1</th>\n",
       "      <td>NaN</td>\n",
       "      <td>NaN</td>\n",
       "      <td>NaN</td>\n",
       "      <td>NaN</td>\n",
       "      <td>NaN</td>\n",
       "      <td>NaN</td>\n",
       "      <td>NaN</td>\n",
       "      <td>NaN</td>\n",
       "    </tr>\n",
       "    <tr>\n",
       "      <th>2</th>\n",
       "      <td>NaN</td>\n",
       "      <td>NaN</td>\n",
       "      <td>NaN</td>\n",
       "      <td>NaN</td>\n",
       "      <td>NaN</td>\n",
       "      <td>NaN</td>\n",
       "      <td>NaN</td>\n",
       "      <td>NaN</td>\n",
       "    </tr>\n",
       "    <tr>\n",
       "      <th>3</th>\n",
       "      <td>NaN</td>\n",
       "      <td>NaN</td>\n",
       "      <td>NaN</td>\n",
       "      <td>NaN</td>\n",
       "      <td>NaN</td>\n",
       "      <td>NaN</td>\n",
       "      <td>NaN</td>\n",
       "      <td>NaN</td>\n",
       "    </tr>\n",
       "    <tr>\n",
       "      <th>4</th>\n",
       "      <td>NaN</td>\n",
       "      <td>NaN</td>\n",
       "      <td>NaN</td>\n",
       "      <td>NaN</td>\n",
       "      <td>NaN</td>\n",
       "      <td>NaN</td>\n",
       "      <td>NaN</td>\n",
       "      <td>NaN</td>\n",
       "    </tr>\n",
       "  </tbody>\n",
       "</table>\n",
       "</div>"
      ],
      "text/plain": [
       "   Unnamed: 0 Unnamed: 1 Unnamed: 2 CategoryTag                     TypeTag  \\\n",
       "0         NaN          V        MBW  Durchfluss  Brauchwarmwasser Verbrauch   \n",
       "1         NaN        NaN        NaN         NaN                         NaN   \n",
       "2         NaN        NaN        NaN         NaN                         NaN   \n",
       "3         NaN        NaN        NaN         NaN                         NaN   \n",
       "4         NaN        NaN        NaN         NaN                         NaN   \n",
       "\n",
       "                       EnglishTag Adjusted_EnglishTag BuildTag  \n",
       "0  Domestic hot water consumption  Domestic hot water      HC0  \n",
       "1                             NaN                 NaN      NaN  \n",
       "2                             NaN                 NaN      NaN  \n",
       "3                             NaN                 NaN      NaN  \n",
       "4                             NaN                 NaN      NaN  "
      ]
     },
     "execution_count": 4,
     "metadata": {},
     "output_type": "execute_result"
    }
   ],
   "source": [
    "df.head()"
   ]
  },
  {
   "cell_type": "code",
   "execution_count": 19,
   "metadata": {
    "collapsed": false
   },
   "outputs": [
    {
     "name": "stdout",
     "output_type": "stream",
     "text": [
      "<class 'pandas.core.frame.DataFrame'>\n",
      "Int64Index: 1164 entries, 0 to 1163\n",
      "Data columns (total 8 columns):\n",
      "Unnamed: 0             0 non-null float64\n",
      "Unnamed: 1             807 non-null object\n",
      "Unnamed: 2             807 non-null object\n",
      "CategoryTag            807 non-null object\n",
      "TypeTag                807 non-null object\n",
      "EnglishTag             807 non-null object\n",
      "Adjusted_EnglishTag    807 non-null object\n",
      "BuildTag               807 non-null object\n",
      "dtypes: float64(1), object(7)\n",
      "memory usage: 81.8+ KB\n"
     ]
    }
   ],
   "source": [
    "df.info()"
   ]
  },
  {
   "cell_type": "code",
   "execution_count": 5,
   "metadata": {
    "collapsed": false
   },
   "outputs": [],
   "source": [
    "countpiv = pd.pivot_table(df.drop([\"Unnamed: 0\",\"Unnamed: 1\",\"CategoryTag\",\"Unnamed: 2\",\"TypeTag\",\"EnglishTag\"], axis=1), index='BuildTag', columns='Adjusted_EnglishTag', aggfunc=len)"
   ]
  },
  {
   "cell_type": "code",
   "execution_count": 6,
   "metadata": {
    "collapsed": false
   },
   "outputs": [
    {
     "data": {
      "text/html": [
       "<div style=\"max-height:1000px;max-width:1500px;overflow:auto;\">\n",
       "<table border=\"1\" class=\"dataframe\">\n",
       "  <thead>\n",
       "    <tr style=\"text-align: right;\">\n",
       "      <th>Adjusted_EnglishTag</th>\n",
       "      <th>City gas</th>\n",
       "      <th>Cooling energy</th>\n",
       "      <th>Domestic hot water</th>\n",
       "      <th>Electricity</th>\n",
       "      <th>Grey water</th>\n",
       "      <th>Heating energy</th>\n",
       "      <th>Water consumption</th>\n",
       "    </tr>\n",
       "    <tr>\n",
       "      <th>BuildTag</th>\n",
       "      <th></th>\n",
       "      <th></th>\n",
       "      <th></th>\n",
       "      <th></th>\n",
       "      <th></th>\n",
       "      <th></th>\n",
       "      <th></th>\n",
       "    </tr>\n",
       "  </thead>\n",
       "  <tbody>\n",
       "    <tr>\n",
       "      <th>HC0</th>\n",
       "      <td>3</td>\n",
       "      <td>4</td>\n",
       "      <td>1</td>\n",
       "      <td>24</td>\n",
       "      <td>NaN</td>\n",
       "      <td>3</td>\n",
       "      <td>6</td>\n",
       "    </tr>\n",
       "    <tr>\n",
       "      <th>HC1</th>\n",
       "      <td>1</td>\n",
       "      <td>2</td>\n",
       "      <td>1</td>\n",
       "      <td>15</td>\n",
       "      <td>5</td>\n",
       "      <td>2</td>\n",
       "      <td>7</td>\n",
       "    </tr>\n",
       "    <tr>\n",
       "      <th>HC2</th>\n",
       "      <td>1</td>\n",
       "      <td>1</td>\n",
       "      <td>1</td>\n",
       "      <td>18</td>\n",
       "      <td>NaN</td>\n",
       "      <td>1</td>\n",
       "      <td>5</td>\n",
       "    </tr>\n",
       "    <tr>\n",
       "      <th>HC3</th>\n",
       "      <td>1</td>\n",
       "      <td>3</td>\n",
       "      <td>1</td>\n",
       "      <td>16</td>\n",
       "      <td>NaN</td>\n",
       "      <td>3</td>\n",
       "      <td>6</td>\n",
       "    </tr>\n",
       "    <tr>\n",
       "      <th>HC4</th>\n",
       "      <td>3</td>\n",
       "      <td>6</td>\n",
       "      <td>1</td>\n",
       "      <td>23</td>\n",
       "      <td>NaN</td>\n",
       "      <td>23</td>\n",
       "      <td>6</td>\n",
       "    </tr>\n",
       "  </tbody>\n",
       "</table>\n",
       "</div>"
      ],
      "text/plain": [
       "Adjusted_EnglishTag  City gas  Cooling energy  Domestic hot water  \\\n",
       "BuildTag                                                            \n",
       "HC0                         3               4                   1   \n",
       "HC1                         1               2                   1   \n",
       "HC2                         1               1                   1   \n",
       "HC3                         1               3                   1   \n",
       "HC4                         3               6                   1   \n",
       "\n",
       "Adjusted_EnglishTag  Electricity  Grey water  Heating energy  \\\n",
       "BuildTag                                                       \n",
       "HC0                           24         NaN               3   \n",
       "HC1                           15           5               2   \n",
       "HC2                           18         NaN               1   \n",
       "HC3                           16         NaN               3   \n",
       "HC4                           23         NaN              23   \n",
       "\n",
       "Adjusted_EnglishTag  Water consumption  \n",
       "BuildTag                                \n",
       "HC0                                  6  \n",
       "HC1                                  7  \n",
       "HC2                                  5  \n",
       "HC3                                  6  \n",
       "HC4                                  6  "
      ]
     },
     "execution_count": 6,
     "metadata": {},
     "output_type": "execute_result"
    }
   ],
   "source": [
    "countpiv.head()"
   ]
  },
  {
   "cell_type": "code",
   "execution_count": null,
   "metadata": {
    "collapsed": false
   },
   "outputs": [],
   "source": []
  },
  {
   "cell_type": "markdown",
   "metadata": {},
   "source": [
    "##Plot"
   ]
  },
  {
   "cell_type": "code",
   "execution_count": 7,
   "metadata": {
    "collapsed": false
   },
   "outputs": [],
   "source": [
    "import matplotlib.pyplot as plt\n",
    "import numpy as np\n",
    "from math import sqrt\n",
    "import matplotlib\n",
    "SPINE_COLOR = 'gray'"
   ]
  },
  {
   "cell_type": "code",
   "execution_count": 8,
   "metadata": {
    "collapsed": false
   },
   "outputs": [],
   "source": [
    "def latexify(fig_width=None, fig_height=None, columns=1):\n",
    "    \"\"\"Set up matplotlib's RC params for LaTeX plotting.\n",
    "    Call this before plotting a figure.\n",
    "\n",
    "    Parameters\n",
    "    ----------\n",
    "    fig_width : float, optional, inches\n",
    "    fig_height : float,  optional, inches\n",
    "    columns : {1, 2}\n",
    "    \"\"\"\n",
    "\n",
    "    # code adapted from http://www.scipy.org/Cookbook/Matplotlib/LaTeX_Examples\n",
    "\n",
    "    # Width and max height in inches for IEEE journals taken from\n",
    "    # computer.org/cms/Computer.org/Journal%20templates/transactions_art_guide.pdf\n",
    "\n",
    "    assert(columns in [1,2])\n",
    "\n",
    "    if fig_width is None:\n",
    "        fig_width = 3.39 if columns==1 else 6.9 # width in inches\n",
    "\n",
    "    if fig_height is None:\n",
    "        golden_mean = (sqrt(5)-1.0)/2.0    # Aesthetic ratio\n",
    "        fig_height = fig_width*golden_mean # height in inches\n",
    "\n",
    "    MAX_HEIGHT_INCHES = 8.0\n",
    "    if fig_height > MAX_HEIGHT_INCHES:\n",
    "        print(\"WARNING: fig_height too large:\" + fig_height + \n",
    "              \"so will reduce to\" + MAX_HEIGHT_INCHES + \"inches.\")\n",
    "        fig_height = MAX_HEIGHT_INCHES\n",
    "\n",
    "    params = {'backend': 'ps',\n",
    "              'text.latex.preamble': ['\\usepackage{gensymb}'],\n",
    "              'axes.labelsize': 8, # fontsize for x and y labels (was 10)\n",
    "              'axes.titlesize': 10,\n",
    "              'text.fontsize': 10, # was 10\n",
    "              'legend.fontsize': 8, # was 10\n",
    "              'xtick.labelsize': 7,\n",
    "              'ytick.labelsize': 7,\n",
    "              'text.usetex': True,\n",
    "              'figure.figsize': [fig_width,fig_height],\n",
    "              'font.family': 'serif'\n",
    "    }\n",
    "\n",
    "    matplotlib.rcParams.update(params)\n",
    "\n",
    "\n",
    "def format_axes(ax):\n",
    "\n",
    "    for spine in ['top', 'right']:\n",
    "        ax.spines[spine].set_visible(False)\n",
    "\n",
    "    for spine in ['left', 'bottom']:\n",
    "        ax.spines[spine].set_color(SPINE_COLOR)\n",
    "        ax.spines[spine].set_linewidth(0.5)\n",
    "\n",
    "    ax.xaxis.set_ticks_position('bottom')\n",
    "    ax.yaxis.set_ticks_position('left')\n",
    "\n",
    "    for axis in [ax.xaxis, ax.yaxis]:\n",
    "        axis.set_tick_params(direction='out', color=SPINE_COLOR)\n",
    "\n",
    "    return ax"
   ]
  },
  {
   "cell_type": "code",
   "execution_count": 9,
   "metadata": {
    "collapsed": false
   },
   "outputs": [
    {
     "name": "stderr",
     "output_type": "stream",
     "text": [
      "/Users/millerc/Library/Enthought/Canopy_64bit/User/lib/python2.7/site-packages/matplotlib/__init__.py:855: UserWarning: text.fontsize is deprecated and replaced with font.size; please use the latter.\n",
      "  warnings.warn(self.msg_depr % (key, alt_key))\n"
     ]
    },
    {
     "data": {
      "image/png": "[encoded data removed]",
      "text/plain": [
       "<matplotlib.figure.Figure at 0x112d357d0>"
      ]
     },
     "metadata": {},
     "output_type": "display_data"
    }
   ],
   "source": [
    "latexify(fig_height=6)\n",
    "ax = countpiv.plot(kind=\"barh\", stacked=True)\n",
    "ax.set_xlabel(\"Number of Datapoints\")\n",
    "ax.set_ylabel(\"Campus Building\")\n",
    "ax.set_title(\"Amount/Type of Sensors in EMS\")\n",
    "ax.legend(loc=1)\n",
    "plt.tight_layout()\n",
    "format_axes(ax)\n",
    "plt.savefig(\"pointbreakdown.pdf\")"
   ]
  },
  {
   "cell_type": "markdown",
   "metadata": {},
   "source": [
    "##Let's hide the building names by assigning a number"
   ]
  },
  {
   "cell_type": "code",
   "execution_count": 10,
   "metadata": {
    "collapsed": false
   },
   "outputs": [],
   "source": [
    "countpiv['sum'] = countpiv.sum(axis=1)"
   ]
  },
  {
   "cell_type": "code",
   "execution_count": 11,
   "metadata": {
    "collapsed": false
   },
   "outputs": [],
   "source": [
    "countpiv = countpiv.sort(columns=\"sum\", ascending=False).drop([\"sum\"], axis=1)"
   ]
  },
  {
   "cell_type": "code",
   "execution_count": 12,
   "metadata": {
    "collapsed": false
   },
   "outputs": [],
   "source": [
    "countpiv = countpiv[[\"Cooling energy\",\"Electricity\",\"Heating energy\",\"City gas\",\"Domestic hot water\",\"Grey water\",\"Water consumption\"]]"
   ]
  },
  {
   "cell_type": "code",
   "execution_count": 14,
   "metadata": {
    "collapsed": false
   },
   "outputs": [
    {
     "data": {
      "text/html": [
       "<div style=\"max-height:1000px;max-width:1500px;overflow:auto;\">\n",
       "<table border=\"1\" class=\"dataframe\">\n",
       "  <thead>\n",
       "    <tr style=\"text-align: right;\">\n",
       "      <th>Adjusted_EnglishTag</th>\n",
       "      <th>Cooling energy</th>\n",
       "      <th>Electricity</th>\n",
       "      <th>Heating energy</th>\n",
       "      <th>City gas</th>\n",
       "      <th>Domestic hot water</th>\n",
       "      <th>Grey water</th>\n",
       "      <th>Water consumption</th>\n",
       "    </tr>\n",
       "    <tr>\n",
       "      <th>BuildTag</th>\n",
       "      <th></th>\n",
       "      <th></th>\n",
       "      <th></th>\n",
       "      <th></th>\n",
       "      <th></th>\n",
       "      <th></th>\n",
       "      <th></th>\n",
       "    </tr>\n",
       "  </thead>\n",
       "  <tbody>\n",
       "    <tr>\n",
       "      <th>HEZ</th>\n",
       "      <td>43</td>\n",
       "      <td>30</td>\n",
       "      <td>54</td>\n",
       "      <td>4</td>\n",
       "      <td>3</td>\n",
       "      <td>NaN</td>\n",
       "      <td>34</td>\n",
       "    </tr>\n",
       "    <tr>\n",
       "      <th>HIT</th>\n",
       "      <td>20</td>\n",
       "      <td>16</td>\n",
       "      <td>20</td>\n",
       "      <td>2</td>\n",
       "      <td>NaN</td>\n",
       "      <td>NaN</td>\n",
       "      <td>5</td>\n",
       "    </tr>\n",
       "    <tr>\n",
       "      <th>HC4</th>\n",
       "      <td>6</td>\n",
       "      <td>23</td>\n",
       "      <td>23</td>\n",
       "      <td>3</td>\n",
       "      <td>1</td>\n",
       "      <td>NaN</td>\n",
       "      <td>6</td>\n",
       "    </tr>\n",
       "    <tr>\n",
       "      <th>HPT</th>\n",
       "      <td>3</td>\n",
       "      <td>5</td>\n",
       "      <td>27</td>\n",
       "      <td>NaN</td>\n",
       "      <td>3</td>\n",
       "      <td>NaN</td>\n",
       "      <td>5</td>\n",
       "    </tr>\n",
       "    <tr>\n",
       "      <th>HC0</th>\n",
       "      <td>4</td>\n",
       "      <td>24</td>\n",
       "      <td>3</td>\n",
       "      <td>3</td>\n",
       "      <td>1</td>\n",
       "      <td>NaN</td>\n",
       "      <td>6</td>\n",
       "    </tr>\n",
       "  </tbody>\n",
       "</table>\n",
       "</div>"
      ],
      "text/plain": [
       "Adjusted_EnglishTag  Cooling energy  Electricity  Heating energy  City gas  \\\n",
       "BuildTag                                                                     \n",
       "HEZ                              43           30              54         4   \n",
       "HIT                              20           16              20         2   \n",
       "HC4                               6           23              23         3   \n",
       "HPT                               3            5              27       NaN   \n",
       "HC0                               4           24               3         3   \n",
       "\n",
       "Adjusted_EnglishTag  Domestic hot water  Grey water  Water consumption  \n",
       "BuildTag                                                                \n",
       "HEZ                                   3         NaN                 34  \n",
       "HIT                                 NaN         NaN                  5  \n",
       "HC4                                   1         NaN                  6  \n",
       "HPT                                   3         NaN                  5  \n",
       "HC0                                   1         NaN                  6  "
      ]
     },
     "execution_count": 14,
     "metadata": {},
     "output_type": "execute_result"
    }
   ],
   "source": [
    "countpiv.head()"
   ]
  },
  {
   "cell_type": "code",
   "execution_count": 15,
   "metadata": {
    "collapsed": false
   },
   "outputs": [],
   "source": [
    "countpiv_anonymous = countpiv.reset_index().reset_index()"
   ]
  },
  {
   "cell_type": "code",
   "execution_count": 16,
   "metadata": {
    "collapsed": false
   },
   "outputs": [],
   "source": [
    "countpiv_anonymous = countpiv_anonymous.drop(['index','BuildTag'], axis=1)"
   ]
  },
  {
   "cell_type": "code",
   "execution_count": 18,
   "metadata": {
    "collapsed": false
   },
   "outputs": [
    {
     "data": {
      "image/png": "[encoded data removed]",
      "text/plain": [
       "<matplotlib.figure.Figure at 0x1144cae50>"
      ]
     },
     "metadata": {},
     "output_type": "display_data"
    }
   ],
   "source": [
    "latexify(fig_height=5)\n",
    "ax = countpiv_anonymous.plot(kind=\"barh\", stacked=True)\n",
    "ax.set_xlabel(\"Number of Datapoints\")\n",
    "ax.set_ylabel(\"Campus Building Number\")\n",
    "ax.set_title(\"Number/Type of Sensors in EMS\")\n",
    "ax.legend(loc=1)\n",
    "ax.yaxis.grid(False)\n",
    "# ax.xaxis.grid(False)\n",
    "\n",
    "plt.tight_layout()\n",
    "format_axes(ax)\n",
    "plt.savefig(\"pointbreakdown_anon.pdf\")"
   ]
  },
  {
   "cell_type": "code",
   "execution_count": null,
   "metadata": {
    "collapsed": false
   },
   "outputs": [],
   "source": []
  }
 ],
 "metadata": {
  "kernelspec": {
   "display_name": "Python 2",
   "language": "python",
   "name": "python2"
  },
  "language_info": {
   "codemirror_mode": {
    "name": "ipython",
    "version": 2
   },
   "file_extension": ".py",
   "mimetype": "text/x-python",
   "name": "python",
   "nbconvert_exporter": "python",
   "pygments_lexer": "ipython2",
   "version": "2.7.6"
  }
 },
 "nbformat": 4,
 "nbformat_minor": 0
}
