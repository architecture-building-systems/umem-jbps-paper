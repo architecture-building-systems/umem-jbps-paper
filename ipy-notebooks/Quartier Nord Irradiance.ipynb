{
 "cells": [
  {
   "cell_type": "markdown",
   "metadata": {},
   "source": [
    "# Calculate irradiance for the Quartier Nord case\n",
    "\n",
    "We want to check the difference between the E+ and CitySim/Co-Sim versions of irradiance, especially on the window below the big overhang.\n",
    "\n",
    "Steps:\n",
    "\n",
    "- figure out which variables we need to add to the simulation\n",
    "- re-run the simulation\n",
    "- parse internal loads from citysim `column=\"1(1):1:Qi(Wh)\"`\n",
    "- parse internal loads from E+ (do we have to sum up some stuff?)\n",
    "- plot them"
   ]
  },
  {
   "cell_type": "markdown",
   "metadata": {},
   "source": [
    ">Hello Daren,\n",
    ">\n",
    ">So like we discussed, the south façade is id=\"160\" within building id=\"1\", and you can extract the corresponding results using >the column: 1(1):160 in the files:\n",
    ">- Shortwave from the _SW.out file\n",
    ">- Longwave from the _LW.out file\n",
    ">\n",
    ">The internal gains (total for the Zone 1) are given by the _TH.out file under the column: 1(1):1:Qi(Wh). They comprises the >internal gains for the occupants and the solar gains.\n",
    ">\n",
    ">Let me know if you need more info,\n",
    ">Kind regards,\n",
    ">Jerome"
   ]
  },
  {
   "cell_type": "code",
   "execution_count": 1,
   "metadata": {
    "collapsed": true
   },
   "outputs": [],
   "source": [
    "%matplotlib inline\n",
    "\n",
    "import esoreader\n",
    "reload(esoreader)\n",
    "import pandas as pd\n",
    "import os\n",
    "import seaborn as sns\n",
    "import matplotlib.pyplot as plt\n",
    "from pylab import *\n",
    "import csv\n",
    "from __future__ import division"
   ]
  },
  {
   "cell_type": "markdown",
   "metadata": {},
   "source": [
    "## Get Co-Simulation data"
   ]
  },
  {
   "cell_type": "code",
   "execution_count": 4,
   "metadata": {
    "collapsed": true
   },
   "outputs": [],
   "source": [
    "# change this to point to where have the UMEM dropbox folder\n",
    "PROJECT_PATH = r\"c:\\Dropbox\\SuAT\\UMEM\\Quartier_Nord_EPFL\"\n",
    "\n",
    "# this is the output of the workflow\n",
    "ESO_PATH = os.path.join(PROJECT_PATH,'cosimulation','quartier_nord.eso')\n",
    "\n",
    "# yeah... we need an index for timeseries...\n",
    "HOURS_IN_YEAR = pd.date_range('2013-01-01', '2013-12-31 T23:00', freq='H')"
   ]
  },
  {
   "cell_type": "code",
   "execution_count": 5,
   "metadata": {
    "collapsed": false
   },
   "outputs": [],
   "source": [
    "qn_cosim_eplus = esoreader.read_from_path(ESO_PATH)"
   ]
  },
  {
   "cell_type": "code",
   "execution_count": 8,
   "metadata": {
    "collapsed": false
   },
   "outputs": [
    {
     "data": {
      "text/plain": [
       "[]"
      ]
     },
     "execution_count": 8,
     "metadata": {},
     "output_type": "execute_result"
    }
   ],
   "source": [
    "qn_cosim_eplus.find_variable('internal loads')"
   ]
  },
  {
   "cell_type": "code",
   "execution_count": null,
   "metadata": {
    "collapsed": true
   },
   "outputs": [],
   "source": []
  }
 ],
 "metadata": {
  "kernelspec": {
   "display_name": "Python 2",
   "language": "python",
   "name": "python2"
  },
  "language_info": {
   "codemirror_mode": {
    "name": "ipython",
    "version": 2
   },
   "file_extension": ".py",
   "mimetype": "text/x-python",
   "name": "python",
   "nbconvert_exporter": "python",
   "pygments_lexer": "ipython2",
   "version": "2.7.10"
  }
 },
 "nbformat": 4,
 "nbformat_minor": 0
}
