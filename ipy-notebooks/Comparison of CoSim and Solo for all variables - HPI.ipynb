{
 "cells": [
  {
   "cell_type": "code",
   "execution_count": 3,
   "metadata": {
    "collapsed": true
   },
   "outputs": [],
   "source": [
    "%matplotlib inline\n",
    "\n",
    "import esoreader\n",
    "reload(esoreader)\n",
    "import pandas as pd\n",
    "import os\n",
    "import seaborn as sns\n",
    "import matplotlib.pyplot as plt\n",
    "from pylab import *\n",
    "import csv\n",
    "from __future__ import division"
   ]
  },
  {
   "cell_type": "code",
   "execution_count": 44,
   "metadata": {
    "collapsed": true
   },
   "outputs": [],
   "source": [
    "PROJECT_PATH = r\"/Users/Clayton/Dropbox/UMEM/results/\""
   ]
  },
  {
   "cell_type": "code",
   "execution_count": 45,
   "metadata": {
    "collapsed": false
   },
   "outputs": [],
   "source": [
    "def get_data(PROJECT_PATH, ESO_PATH):\n",
    "    PROJECT_PATH = path\n",
    "    \n",
    "    HOURS_IN_YEAR = pd.date_range('2013-01-01', '2013-12-31 T23:00', freq='H')\n",
    "    \n",
    "    data = esoreader.read_from_path(ESO_PATH)\n",
    "    \n",
    "    varlist = pd.DataFrame(data.dd.variables)\n",
    "    varlist = varlist.T\n",
    "    uniquevarlist = varlist[2].unique()\n",
    "    \n",
    "    datalist = []\n",
    "    for variable in uniquevarlist:\n",
    "        try:\n",
    "        #print \"getting \"+variable\n",
    "            raw = data.to_frame(variable, index=HOURS_IN_YEAR, use_key_for_columns=False)\n",
    "            datalist.append(raw)\n",
    "        except:\n",
    "            print \"coundnt load \"+str(variable)\n",
    "        \n",
    "    return datalist, uniquevarlist"
   ]
  },
  {
   "cell_type": "code",
   "execution_count": 46,
   "metadata": {
    "collapsed": true
   },
   "outputs": [],
   "source": [
    "ESO_PATH_cosim = os.path.join(PROJECT_PATH, '36-cosim-HPI', '36-cosim-HPI.eso')\n",
    "\n",
    "ESO_PATH_solo = os.path.join(PROJECT_PATH, '35-energyplus-HPI', '35-energyplus-HPI.eso')"
   ]
  },
  {
   "cell_type": "code",
   "execution_count": 47,
   "metadata": {
    "collapsed": false
   },
   "outputs": [
    {
     "name": "stdout",
     "output_type": "stream",
     "text": [
      "coundnt load Zone Mean Air Temperature\n"
     ]
    }
   ],
   "source": [
    "solodata, solo_varlist = get_data(PROJECT_PATH, ESO_PATH_solo)"
   ]
  },
  {
   "cell_type": "code",
   "execution_count": 59,
   "metadata": {
    "collapsed": false
   },
   "outputs": [
    {
     "name": "stdout",
     "output_type": "stream",
     "text": [
      "coundnt load Site Direct Solar Radiation Rate per Area\n",
      "coundnt load People Total Heating Energy\n",
      "coundnt load Lights Total Heating Energy\n",
      "coundnt load Electric Equipment Total Heating Energy\n",
      "coundnt load Zone Windows Total Heat Gain Energy\n",
      "coundnt load Zone Windows Total Heat Loss Energy\n",
      "coundnt load Zone Infiltration Total Heat Loss Energy\n",
      "coundnt load Zone Ventilation Total Heat Loss Energy\n",
      "coundnt load Facility Total Produced Electric Energy\n"
     ]
    }
   ],
   "source": [
    "cosimdata, cosim_varlist = get_data(PROJECT_PATH, ESO_PATH_cosim)"
   ]
  },
  {
   "cell_type": "code",
   "execution_count": 60,
   "metadata": {
    "collapsed": false
   },
   "outputs": [
    {
     "data": {
      "text/plain": [
       "27"
      ]
     },
     "execution_count": 60,
     "metadata": {},
     "output_type": "execute_result"
    }
   ],
   "source": [
    "len(solodata)"
   ]
  },
  {
   "cell_type": "code",
   "execution_count": 61,
   "metadata": {
    "collapsed": false
   },
   "outputs": [
    {
     "data": {
      "text/plain": [
       "38"
      ]
     },
     "execution_count": 61,
     "metadata": {},
     "output_type": "execute_result"
    }
   ],
   "source": [
    "len(cosimdata)"
   ]
  },
  {
   "cell_type": "code",
   "execution_count": 72,
   "metadata": {
    "collapsed": false
   },
   "outputs": [],
   "source": [
    "#cosimdata[26]"
   ]
  },
  {
   "cell_type": "code",
   "execution_count": null,
   "metadata": {
    "collapsed": true
   },
   "outputs": [],
   "source": [
    "for"
   ]
  }
 ],
 "metadata": {
  "hide_input": false,
  "kernelspec": {
   "display_name": "Python 2",
   "language": "python",
   "name": "python2"
  },
  "language_info": {
   "codemirror_mode": {
    "name": "ipython",
    "version": 2
   },
   "file_extension": ".py",
   "mimetype": "text/x-python",
   "name": "python",
   "nbconvert_exporter": "python",
   "pygments_lexer": "ipython2",
   "version": "2.7.12"
  }
 },
 "nbformat": 4,
 "nbformat_minor": 0
}
